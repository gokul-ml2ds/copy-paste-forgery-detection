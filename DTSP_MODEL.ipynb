{
  "nbformat": 4,
  "nbformat_minor": 0,
  "metadata": {
    "colab": {
      "name": "DTSP_MODEL ",
      "provenance": []
    },
    "kernelspec": {
      "display_name": "Python 3",
      "name": "python3"
    }
  },
  "cells": [
    {
      "cell_type": "markdown",
      "metadata": {
        "id": "Q1GtBudn8xCw"
      },
      "source": [
        ""
      ]
    },
    {
      "cell_type": "code",
      "metadata": {
        "id": "_EoCcK2a4smP"
      },
      "source": [
        "import tensorflow as tf\n",
        "import pandas as pd\n",
        "import tensorflow_hub as hub\n",
        "import numpy as np\n",
        "import cv2\n",
        "import joblib"
      ],
      "execution_count": 40,
      "outputs": []
    },
    {
      "cell_type": "code",
      "metadata": {
        "id": "6Jvj0AlM0uBD"
      },
      "source": [
        "data_path =(\"/content/drive/MyDrive/copy paste\")"
      ],
      "execution_count": 22,
      "outputs": []
    },
    {
      "cell_type": "code",
      "metadata": {
        "id": "blwpnEgu3cIJ"
      },
      "source": [
        "IMAGE_SHAPE = (224, 224) # (height, width) in no. of pixels"
      ],
      "execution_count": 23,
      "outputs": []
    },
    {
      "cell_type": "code",
      "metadata": {
        "id": "il0vrHCu3lE8"
      },
      "source": [
        "TRAINING_DATA_DIR = str(data_path)\n",
        "datagen_kwargs = dict(rescale=1./255, validation_split=.25)"
      ],
      "execution_count": 24,
      "outputs": []
    },
    {
      "cell_type": "code",
      "metadata": {
        "colab": {
          "base_uri": "https://localhost:8080/"
        },
        "id": "7Ayx-QGH3qta",
        "outputId": "f3541054-4795-44b7-bb40-56b4cb340dc0"
      },
      "source": [
        "valid_datagen = tf.keras.preprocessing.image.ImageDataGenerator(**datagen_kwargs)\n",
        "valid_generator = valid_datagen.flow_from_directory(TRAINING_DATA_DIR,subset=\"validation\", shuffle=True,target_size=IMAGE_SHAPE)\n",
        "train_datagen = tf.keras.preprocessing.image.ImageDataGenerator(**datagen_kwargs)\n",
        "train_generator = train_datagen.flow_from_directory(TRAINING_DATA_DIR,subset=\"training\",shuffle=True,target_size=IMAGE_SHAPE)"
      ],
      "execution_count": 25,
      "outputs": [
        {
          "output_type": "stream",
          "text": [
            "Found 350 images belonging to 2 classes.\n",
            "Found 1050 images belonging to 2 classes.\n"
          ],
          "name": "stdout"
        }
      ]
    },
    {
      "cell_type": "code",
      "metadata": {
        "colab": {
          "base_uri": "https://localhost:8080/"
        },
        "id": "wes3GB7c32rn",
        "outputId": "41e7d79a-4f31-4238-ef00-09b748ff296c"
      },
      "source": [
        "print (train_generator.class_indices)\n",
        "train_generator.image_shape\n",
        "valid_generator.image_shape"
      ],
      "execution_count": 26,
      "outputs": [
        {
          "output_type": "stream",
          "text": [
            "{'original': 0, 'tampered': 1}\n"
          ],
          "name": "stdout"
        },
        {
          "output_type": "execute_result",
          "data": {
            "text/plain": [
              "(224, 224, 3)"
            ]
          },
          "metadata": {
            "tags": []
          },
          "execution_count": 26
        }
      ]
    },
    {
      "cell_type": "code",
      "metadata": {
        "id": "wZFJJ_j7BBsD"
      },
      "source": [
        "from keras.models import Sequential\n",
        "from keras.layers import Dense, Dropout, Conv2D, MaxPool2D, Flatten\n",
        "from keras.utils import np_utils"
      ],
      "execution_count": 27,
      "outputs": []
    },
    {
      "cell_type": "code",
      "metadata": {
        "id": "5hLKm-Mz5Ooh"
      },
      "source": [
        "# building a linear stack of layers with the sequential model\n",
        "model = Sequential()\n",
        "# convolutional layer\n",
        "model.add(Conv2D(25, kernel_size=(3,3), strides=(1,1), padding='valid', activation='relu', input_shape=(224,224,3)))\n",
        "model.add(MaxPool2D(pool_size=(1,1)))\n",
        "# flatten output of conv\n",
        "model.add(Flatten())\n",
        "# hidden layer\n",
        "model.add(Dense(100, activation='relu'))\n",
        "# output layer\n",
        "model.add(Dense(2, activation='softmax'))\n"
      ],
      "execution_count": 34,
      "outputs": []
    },
    {
      "cell_type": "code",
      "metadata": {
        "colab": {
          "base_uri": "https://localhost:8080/"
        },
        "id": "y05zJBVpBEkD",
        "outputId": "5efc042b-da77-421b-8824-415fda90f642"
      },
      "source": [
        "model.summary()"
      ],
      "execution_count": 35,
      "outputs": [
        {
          "output_type": "stream",
          "text": [
            "Model: \"sequential_4\"\n",
            "_________________________________________________________________\n",
            "Layer (type)                 Output Shape              Param #   \n",
            "=================================================================\n",
            "conv2d_4 (Conv2D)            (None, 222, 222, 25)      700       \n",
            "_________________________________________________________________\n",
            "max_pooling2d_4 (MaxPooling2 (None, 222, 222, 25)      0         \n",
            "_________________________________________________________________\n",
            "flatten_2 (Flatten)          (None, 1232100)           0         \n",
            "_________________________________________________________________\n",
            "dense_4 (Dense)              (None, 100)               123210100 \n",
            "_________________________________________________________________\n",
            "dense_5 (Dense)              (None, 2)                 202       \n",
            "=================================================================\n",
            "Total params: 123,211,002\n",
            "Trainable params: 123,211,002\n",
            "Non-trainable params: 0\n",
            "_________________________________________________________________\n"
          ],
          "name": "stdout"
        }
      ]
    },
    {
      "cell_type": "code",
      "metadata": {
        "id": "9HMOhebo5xga"
      },
      "source": [
        "optimizer = tf.keras.optimizers.Adam(lr=1e-3)\n",
        "model.compile(optimizer=optimizer,loss='categorical_crossentropy', metrics=['acc'])"
      ],
      "execution_count": 36,
      "outputs": []
    },
    {
      "cell_type": "code",
      "metadata": {
        "colab": {
          "base_uri": "https://localhost:8080/"
        },
        "id": "zrohPGJC572y",
        "outputId": "131d6e51-daf4-4dd6-8636-e30bf480b559"
      },
      "source": [
        "steps_per_epoch = np.ceil(train_generator.samples/train_generator.batch_size)\n",
        "val_steps_per_epoch = np.ceil(valid_generator.samples/valid_generator.batch_size)\n",
        "hist = model.fit(train_generator, epochs=30,verbose=1,steps_per_epoch=3,validation_data=valid_generator,validation_steps=val_steps_per_epoch).history"
      ],
      "execution_count": 39,
      "outputs": [
        {
          "output_type": "stream",
          "text": [
            "Epoch 1/30\n",
            "3/3 [==============================] - 20s 5s/step - loss: 3.9386 - acc: 0.6146 - val_loss: 1.8296 - val_acc: 0.4429\n",
            "Epoch 2/30\n",
            "3/3 [==============================] - 18s 7s/step - loss: 1.3976 - acc: 0.7188 - val_loss: 2.2950 - val_acc: 0.4914\n",
            "Epoch 3/30\n",
            "3/3 [==============================] - 18s 6s/step - loss: 1.2909 - acc: 0.6562 - val_loss: 4.1647 - val_acc: 0.5057\n",
            "Epoch 4/30\n",
            "3/3 [==============================] - 15s 5s/step - loss: 1.2105 - acc: 0.7083 - val_loss: 4.4685 - val_acc: 0.5057\n",
            "Epoch 5/30\n",
            "3/3 [==============================] - 16s 5s/step - loss: 0.8965 - acc: 0.7812 - val_loss: 1.2323 - val_acc: 0.3829\n",
            "Epoch 6/30\n",
            "3/3 [==============================] - 15s 6s/step - loss: 0.8653 - acc: 0.6875 - val_loss: 1.4222 - val_acc: 0.4600\n",
            "Epoch 7/30\n",
            "3/3 [==============================] - 13s 5s/step - loss: 0.3317 - acc: 0.8750 - val_loss: 3.2642 - val_acc: 0.5229\n",
            "Epoch 8/30\n",
            "3/3 [==============================] - 13s 5s/step - loss: 0.3099 - acc: 0.8222 - val_loss: 1.8673 - val_acc: 0.5171\n",
            "Epoch 9/30\n",
            "3/3 [==============================] - 13s 5s/step - loss: 0.1345 - acc: 0.9688 - val_loss: 1.4856 - val_acc: 0.4829\n",
            "Epoch 10/30\n",
            "3/3 [==============================] - 13s 5s/step - loss: 0.1445 - acc: 0.9583 - val_loss: 1.8342 - val_acc: 0.5171\n",
            "Epoch 11/30\n",
            "3/3 [==============================] - 16s 5s/step - loss: 0.1821 - acc: 0.9688 - val_loss: 2.6941 - val_acc: 0.5229\n",
            "Epoch 12/30\n",
            "3/3 [==============================] - 13s 5s/step - loss: 0.1427 - acc: 0.9583 - val_loss: 3.4150 - val_acc: 0.5229\n",
            "Epoch 13/30\n",
            "3/3 [==============================] - 13s 5s/step - loss: 0.1405 - acc: 0.9556 - val_loss: 3.2133 - val_acc: 0.5229\n",
            "Epoch 14/30\n",
            "3/3 [==============================] - 13s 5s/step - loss: 0.0623 - acc: 1.0000 - val_loss: 2.2432 - val_acc: 0.5229\n",
            "Epoch 15/30\n",
            "3/3 [==============================] - 13s 5s/step - loss: 0.0947 - acc: 0.9896 - val_loss: 1.7832 - val_acc: 0.5086\n",
            "Epoch 16/30\n",
            "3/3 [==============================] - 12s 5s/step - loss: 0.2593 - acc: 0.9583 - val_loss: 1.9143 - val_acc: 0.5171\n",
            "Epoch 17/30\n",
            "3/3 [==============================] - 12s 5s/step - loss: 0.0767 - acc: 0.9896 - val_loss: 2.3985 - val_acc: 0.5229\n",
            "Epoch 18/30\n",
            "3/3 [==============================] - 17s 7s/step - loss: 0.1468 - acc: 0.9583 - val_loss: 2.6432 - val_acc: 0.5229\n",
            "Epoch 19/30\n",
            "3/3 [==============================] - 13s 5s/step - loss: 0.0816 - acc: 0.9792 - val_loss: 3.0170 - val_acc: 0.5229\n",
            "Epoch 20/30\n",
            "3/3 [==============================] - 12s 5s/step - loss: 0.1251 - acc: 0.9688 - val_loss: 3.0846 - val_acc: 0.5229\n",
            "Epoch 21/30\n",
            "3/3 [==============================] - 12s 5s/step - loss: 0.0860 - acc: 0.9889 - val_loss: 2.7905 - val_acc: 0.5229\n",
            "Epoch 22/30\n",
            "3/3 [==============================] - 11s 5s/step - loss: 0.0836 - acc: 0.9889 - val_loss: 2.2859 - val_acc: 0.5543\n",
            "Epoch 23/30\n",
            "3/3 [==============================] - 12s 5s/step - loss: 0.1008 - acc: 0.9792 - val_loss: 2.1161 - val_acc: 0.5543\n",
            "Epoch 24/30\n",
            "3/3 [==============================] - 12s 5s/step - loss: 0.0595 - acc: 0.9896 - val_loss: 2.1512 - val_acc: 0.5543\n",
            "Epoch 25/30\n",
            "3/3 [==============================] - 13s 5s/step - loss: 0.2188 - acc: 0.9479 - val_loss: 2.4535 - val_acc: 0.5343\n",
            "Epoch 26/30\n",
            "3/3 [==============================] - 12s 5s/step - loss: 0.0724 - acc: 0.9792 - val_loss: 2.8210 - val_acc: 0.5229\n",
            "Epoch 27/30\n",
            "3/3 [==============================] - 12s 5s/step - loss: 0.0955 - acc: 0.9792 - val_loss: 2.9321 - val_acc: 0.5229\n",
            "Epoch 28/30\n",
            "3/3 [==============================] - 12s 5s/step - loss: 0.0653 - acc: 0.9896 - val_loss: 2.8002 - val_acc: 0.5229\n",
            "Epoch 29/30\n",
            "3/3 [==============================] - 12s 5s/step - loss: 0.1233 - acc: 0.9792 - val_loss: 2.6060 - val_acc: 0.5543\n",
            "Epoch 30/30\n",
            "3/3 [==============================] - 12s 5s/step - loss: 0.1488 - acc: 0.9583 - val_loss: 2.5401 - val_acc: 0.5543\n"
          ],
          "name": "stdout"
        }
      ]
    }
  ]
}